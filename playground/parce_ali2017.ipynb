{
 "cells": [
  {
   "cell_type": "code",
   "execution_count": 6,
   "metadata": {},
   "outputs": [],
   "source": [
    "import csv\n",
    "import datetime\n",
    "import json\n",
    "import matplotlib.pyplot as plt\n",
    "import numpy as np\n",
    "import os\n"
   ]
  },
  {
   "cell_type": "markdown",
   "metadata": {},
   "source": [
    "# Constants"
   ]
  },
  {
   "cell_type": "code",
   "execution_count": 11,
   "metadata": {},
   "outputs": [],
   "source": [
    "LOGDIR = \"/home/poanpan/ali2017\"\n"
   ]
  },
  {
   "cell_type": "markdown",
   "metadata": {},
   "source": [
    "\n",
    "# batch instances"
   ]
  },
  {
   "cell_type": "code",
   "execution_count": 65,
   "metadata": {},
   "outputs": [
    {
     "name": "stdout",
     "output_type": "stream",
     "text": [
      "False\n",
      "False\n",
      "1\n"
     ]
    }
   ],
   "source": [
    "a = 'pythontab.com'\n",
    "b = 'pythontab.com'\n",
    "print(a is b)\n",
    "print('' is None)\n",
    "\n",
    "c = {'a': 5}\n",
    "c['b'] = c.setdefault('b', 0) + 1\n",
    "print(c['b'])"
   ]
  },
  {
   "cell_type": "code",
   "execution_count": 77,
   "metadata": {},
   "outputs": [
    {
     "name": "stdout",
     "output_type": "stream",
     "text": [
      "Interrupted 5827\n",
      "Ready 67618\n",
      "Failed 209043\n",
      "Running 835194\n",
      "Waiting 1268982\n",
      "Terminated 11780892\n",
      "14167556\n"
     ]
    }
   ],
   "source": [
    "batch_instance_path = os.path.join(LOGDIR, \"batch_instance.csv\")\n",
    "\n",
    "def is_NULL(a):\n",
    "    return a == '' or a is None or a == 'None' or a is None\n",
    "\n",
    "cnt_no_mem_info = 0\n",
    "dict_no_info = {}\n",
    "\n",
    "with open(batch_instance_path, 'r') as f:\n",
    "    reader = csv.reader(f)\n",
    "    i = 0\n",
    "    for i, row in enumerate(reader):\n",
    "#         if is_NULL(row[10]) and not is_NULL(row[11]) and row[5] != 'Terminated':\n",
    "#             cnt_no_mem_info += 1\n",
    "#             print(row)\n",
    "        if is_NULL(row[8]) or is_NULL(row[9]) or is_NULL(row[10]) or is_NULL(row[11]):\n",
    "            dict_no_info[row[5]] = dict_no_info.setdefault(row[5], 0) + 1\n",
    "    cnt = 0\n",
    "    sorted_dict_list = sorted(dict_no_info.items(), key=lambda d: d[1])\n",
    "    \n",
    "    dict_no_info = dict(sorted_dict_list)\n",
    "    \n",
    "    for key, value in dict_no_info.items():\n",
    "        print(key, value)\n",
    "        cnt += value\n",
    "    print(cnt)\n",
    "            \n",
    "        \n",
    "\n",
    "            "
   ]
  },
  {
   "cell_type": "code",
   "execution_count": null,
   "metadata": {},
   "outputs": [],
   "source": []
  },
  {
   "cell_type": "code",
   "execution_count": null,
   "metadata": {},
   "outputs": [],
   "source": []
  }
 ],
 "metadata": {
  "kernelspec": {
   "display_name": "Python 3",
   "language": "python",
   "name": "python3"
  },
  "language_info": {
   "codemirror_mode": {
    "name": "ipython",
    "version": 3
   },
   "file_extension": ".py",
   "mimetype": "text/x-python",
   "name": "python",
   "nbconvert_exporter": "python",
   "pygments_lexer": "ipython3",
   "version": "3.6.8"
  },
  "pycharm": {
   "stem_cell": {
    "cell_type": "raw",
    "metadata": {
     "collapsed": false
    },
    "source": []
   }
  }
 },
 "nbformat": 4,
 "nbformat_minor": 1
}
